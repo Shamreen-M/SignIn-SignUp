{
 "cells": [
  {
   "cell_type": "markdown",
   "id": "d9af75d3",
   "metadata": {},
   "source": [
    "# SignIn & SignUp Project"
   ]
  },
  {
   "cell_type": "markdown",
   "id": "785106de",
   "metadata": {},
   "source": [
    "This project is for SignUp/Registration and SignIn/Login for Online Website.\n",
    "Application has five operations -> \n",
    "1. SignUp/Registration of new account\n",
    "2. Login for existing account\n",
    "3. Reset Password for existing account ( if password is forgotten)\n",
    "4. Change Password for existing account ( if password is known)\n",
    "5. Delete username/account details"
   ]
  },
  {
   "cell_type": "markdown",
   "id": "56065fcb",
   "metadata": {},
   "source": [
    "### Database"
   ]
  },
  {
   "cell_type": "markdown",
   "id": "b5769de0",
   "metadata": {},
   "source": [
    "<u>Application uses two dictionaries as database </u>\n",
    "1. account -> to store account details i.e, username and password\n",
    "2. saveSecQuest -> to store 3 security questions based on username"
   ]
  },
  {
   "cell_type": "markdown",
   "id": "10f8c2eb",
   "metadata": {},
   "source": [
    "<u>Password Criteria </u>->\n",
    "- Password should be minimum 8 characters in length\n",
    "- Password should contain atleast 1 uppercase letter\n",
    "- Password should contain atleast 1 lowercase letter\n",
    "- Password should contain atleast 1 digit\n",
    "- Password should contain atleast 1 special character ([#','@','$','_'])"
   ]
  },
  {
   "cell_type": "code",
   "execution_count": 1,
   "id": "ce9eb1a9",
   "metadata": {},
   "outputs": [],
   "source": [
    "import appl"
   ]
  },
  {
   "cell_type": "code",
   "execution_count": null,
   "id": "168a461e",
   "metadata": {},
   "outputs": [],
   "source": [
    "print(\"\\n************** WELCOME TO ONLINE WEBSITE **************\")\n",
    "while True:\n",
    "    choice=int(input('''    PRESS 1 for SignUp\n",
    "    PRESS 2 for Login\n",
    "    PRESS 3 for Reset Password \n",
    "    PRESS 4 for Change Password \n",
    "    PRESS 5 for Delete username\n",
    "    PRESS 6 for Print all usernames \n",
    "    PRESS 0 for Exit\\n\\n'''))\n",
    "    if choice==1:\n",
    "        appl.SignUp()\n",
    "    elif choice==2:\n",
    "        username=input(\"Enter New Username: \").lower()\n",
    "        password=input(\"Enter Password: \")\n",
    "        appl.login(username,password)\n",
    "    elif choice==3:\n",
    "        username=input(\"Enter New Username: \").lower()\n",
    "        appl.resetPassword(username)\n",
    "    elif choice==4:\n",
    "        username=input(\"Enter New Username: \").lower()\n",
    "        appl.changePassword(username)\n",
    "    elif choice==5:\n",
    "        username=input(\"Enter New Username: \").lower()\n",
    "        appl.deleteUsername(username)\n",
    "    elif choice==6:\n",
    "        appl.printUsername()\n",
    "    elif choice==0:\n",
    "        print(\"\\n************** THANKS FOR VISITING **************\")\n",
    "        break\n",
    "    else:\n",
    "        print(\"Invalid option, Please choose correct choice\");\n",
    "    "
   ]
  },
  {
   "cell_type": "code",
   "execution_count": null,
   "id": "be69a9e1",
   "metadata": {},
   "outputs": [],
   "source": []
  }
 ],
 "metadata": {
  "kernelspec": {
   "display_name": "Python 3 (ipykernel)",
   "language": "python",
   "name": "python3"
  },
  "language_info": {
   "codemirror_mode": {
    "name": "ipython",
    "version": 3
   },
   "file_extension": ".py",
   "mimetype": "text/x-python",
   "name": "python",
   "nbconvert_exporter": "python",
   "pygments_lexer": "ipython3",
   "version": "3.10.9"
  }
 },
 "nbformat": 4,
 "nbformat_minor": 5
}
